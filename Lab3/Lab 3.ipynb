{
 "cells": [
  {
   "cell_type": "markdown",
   "metadata": {},
   "source": [
    "# Lab 2"
   ]
  },
  {
   "cell_type": "markdown",
   "metadata": {},
   "source": [
    "In this lab, you're going to look at a subset of the Department of Buildings Job\n",
    "Application Filings dataset from the NYC Open Data portal. This dataset consists of job\n",
    "applications filed on January 22, 2017."
   ]
  },
  {
   "cell_type": "markdown",
   "metadata": {},
   "source": [
    "# I. Exploring your data"
   ]
  },
  {
   "cell_type": "markdown",
   "metadata": {},
   "source": [
    "# 1. Diagnose data for cleaning"
   ]
  },
  {
   "cell_type": "markdown",
   "metadata": {},
   "source": [
    "## 1.1 Loading and view your data"
   ]
  },
  {
   "cell_type": "code",
   "execution_count": 34,
   "metadata": {
    "collapsed": true
   },
   "outputs": [],
   "source": [
    "import pandas as pd"
   ]
  },
  {
   "cell_type": "code",
   "execution_count": 35,
   "metadata": {},
   "outputs": [],
   "source": [
    "df = pd.read_csv('dob_job_application_filings_subset.csv',low_memory=False)"
   ]
  },
  {
   "cell_type": "code",
   "execution_count": 15,
   "metadata": {},
   "outputs": [
    {
     "name": "stdout",
     "output_type": "stream",
     "text": [
      "       Job #  Doc #        Borough House #                       Street Name  \\\n",
      "0  121577873      2      MANHATTAN     386  PARK AVENUE SOUTH                  \n",
      "1  520129502      1  STATEN ISLAND     107  KNOX PLACE                         \n",
      "2  121601560      1      MANHATTAN      63  WEST 131 STREET                    \n",
      "3  121601203      1      MANHATTAN      48  WEST 25TH STREET                   \n",
      "4  121601338      1      MANHATTAN      45  WEST 29 STREET                     \n",
      "\n",
      "   Block  Lot    Bin # Job Type Job Status      ...       \\\n",
      "0    857   38  1016890       A2          D      ...        \n",
      "1    342    1  5161350       A3          A      ...        \n",
      "2   1729    9  1053831       A2          Q      ...        \n",
      "3    826   69  1015610       A2          D      ...        \n",
      "4    831    7  1015754       A3          D      ...        \n",
      "\n",
      "                Owner's Last Name             Owner's Business Name  \\\n",
      "0  MIGLIORE                        MACKLOWE MANAGEMENT                \n",
      "1  BLUMENBERG                      NA                                 \n",
      "2  MARKOWITZ                       635 RIVERSIDE DRIVE NY LLC         \n",
      "3  CASALE                          48 W 25 ST LLC C/O BERNSTEIN       \n",
      "4  LEE                             HYUNG-HYANG REALTY CORP            \n",
      "\n",
      "  Owner's House Number          Owner'sHouse Street Name            City   \\\n",
      "0                  126  EAST 56TH STREET                  NEW YORK          \n",
      "1                  107  KNOX PLACE                        STATEN ISLAND     \n",
      "2                  619  WEST 54TH STREET                  NEW YORK          \n",
      "3                  150  WEST 30TH STREET                  NEW YORK          \n",
      "4                  614  8 AVENUE                          NEW YORK          \n",
      "\n",
      "  State    Zip Owner'sPhone #  \\\n",
      "0    NY  10222     2125545837   \n",
      "1    NY  10314     3477398892   \n",
      "2    NY  10016     2127652555   \n",
      "3    NY  10001     2125941414   \n",
      "4    NY  10001     2019881222   \n",
      "\n",
      "                                     Job Description    DOBRunDate  \n",
      "0  GENERAL MECHANICAL & PLUMBING MODIFICATIONS AS...  4/26/13 0:00  \n",
      "1  BUILDERS PAVEMENT PLAN 143 LF.                ...  4/26/13 0:00  \n",
      "2  GENERAL CONSTRUCTION TO INCLUDE NEW PARTITIONS...  4/26/13 0:00  \n",
      "3  STRUCTURAL CHANGES ON THE 5TH FLOOR (MOONDOG E...  4/26/13 0:00  \n",
      "4  FILING HEREWITH FACADE REPAIR PLANS. WORK SCOP...  4/26/13 0:00  \n",
      "\n",
      "[5 rows x 82 columns]\n"
     ]
    }
   ],
   "source": [
    "print(df.head())"
   ]
  },
  {
   "cell_type": "code",
   "execution_count": 16,
   "metadata": {},
   "outputs": [
    {
     "name": "stdout",
     "output_type": "stream",
     "text": [
      "           Job #  Doc #        Borough House #  \\\n",
      "12841  520143988      1  STATEN ISLAND       8   \n",
      "12842  121613833      1      MANHATTAN     724   \n",
      "12843  121681260      1      MANHATTAN     350   \n",
      "12844  320771704      1       BROOKLYN     499   \n",
      "12845  520143951      1  STATEN ISLAND    1755   \n",
      "\n",
      "                            Street Name  Block  Lot    Bin # Job Type  \\\n",
      "12841  NOEL STREET                        5382   20  5069722       A2   \n",
      "12842  10 AVENUE                          1059    4  1082503       A2   \n",
      "12843  MANHATTAN AVE.                     1848   31  1055849       A2   \n",
      "12844  UNION STREET                        431   43  3007185       A2   \n",
      "12845  RICHMOND ROAD                       887   28  5022931       A2   \n",
      "\n",
      "      Job Status      ...                    Owner's Last Name  \\\n",
      "12841          D      ...       MALITO                           \n",
      "12842          D      ...       CROMAN                           \n",
      "12843          A      ...       ARYEH                            \n",
      "12844          D      ...       WIGGINS                          \n",
      "12845          D      ...       CAMBRIA                          \n",
      "\n",
      "                  Owner's Business Name Owner's House Number  \\\n",
      "12841  GENO MALITO                                         8   \n",
      "12842  722-724 10TH AVENUE HOLDING LLC                   632   \n",
      "12843  DG UWS LLC                                        619   \n",
      "12844  N/A                                                77   \n",
      "12845  RONALD CAMBRIA                                   1755   \n",
      "\n",
      "               Owner'sHouse Street Name            City  State    Zip  \\\n",
      "12841  NOEL STREET                       STATEN ISLAND      NY  10312   \n",
      "12842  BROADWAY                          NEW YORK           NY  10012   \n",
      "12843  WEST 54TH STREET                  NEW YORK           NY  10019   \n",
      "12844  PROSPECT PLACE                    BROOKLYN           NY  11217   \n",
      "12845  RICHMOND ROAD                     STATEN ISLAND      NY  10304   \n",
      "\n",
      "      Owner'sPhone #                                    Job Description  \\\n",
      "12841     9174685659  HORIZONTAL ENLARGEMENT OF ATTACHED ONE CAR GAR...   \n",
      "12842     2122289300  RENOVATION OF EXISTING APARTMENT #3B ON THIRD ...   \n",
      "12843     2127652555  REPLACE BURNER IN EXSTG BOILER WITH NEW GAS BU...   \n",
      "12844     9178487799  INSTALL NEW SPRINKLER SYSTEM THROUGHOUT THE BU...   \n",
      "12845     7184482740  INTERIOR PARTITIONS AND MINOR PLUMBING WORK TO...   \n",
      "\n",
      "         DOBRunDate  \n",
      "12841  6/13/13 0:00  \n",
      "12842  6/13/13 0:00  \n",
      "12843  6/13/13 0:00  \n",
      "12844  6/13/13 0:00  \n",
      "12845  6/13/13 0:00  \n",
      "\n",
      "[5 rows x 82 columns]\n"
     ]
    }
   ],
   "source": [
    "print(df.tail())"
   ]
  },
  {
   "cell_type": "code",
   "execution_count": 17,
   "metadata": {},
   "outputs": [
    {
     "name": "stdout",
     "output_type": "stream",
     "text": [
      "(12846, 82)\n"
     ]
    }
   ],
   "source": [
    "print(df.shape)"
   ]
  },
  {
   "cell_type": "code",
   "execution_count": 18,
   "metadata": {},
   "outputs": [
    {
     "name": "stdout",
     "output_type": "stream",
     "text": [
      "Index(['Job #', 'Doc #', 'Borough', 'House #', 'Street Name', 'Block', 'Lot',\n",
      "       'Bin #', 'Job Type', 'Job Status', 'Job Status Descrp',\n",
      "       'Latest Action Date', 'Building Type', 'Community - Board', 'Cluster',\n",
      "       'Landmarked', 'Adult Estab', 'Loft Board', 'City Owned', 'Little e',\n",
      "       'PC Filed', 'eFiling Filed', 'Plumbing', 'Mechanical', 'Boiler',\n",
      "       'Fuel Burning', 'Fuel Storage', 'Standpipe', 'Sprinkler', 'Fire Alarm',\n",
      "       'Equipment', 'Fire Suppression', 'Curb Cut', 'Other',\n",
      "       'Other Description', 'Applicant's First Name', 'Applicant's Last Name',\n",
      "       'Applicant Professional Title', 'Applicant License #',\n",
      "       'Professional Cert', 'Pre- Filing Date', 'Paid', 'Fully Paid',\n",
      "       'Assigned', 'Approved', 'Fully Permitted', 'Initial Cost',\n",
      "       'Total Est. Fee', 'Fee Status', 'Existing Zoning Sqft',\n",
      "       'Proposed Zoning Sqft', 'Horizontal Enlrgmt', 'Vertical Enlrgmt',\n",
      "       'Enlargement SQ Footage', 'Street Frontage', 'ExistingNo. of Stories',\n",
      "       'Proposed No. of Stories', 'Existing Height', 'Proposed Height',\n",
      "       'Existing Dwelling Units', 'Proposed Dwelling Units',\n",
      "       'Existing Occupancy', 'Proposed Occupancy', 'Site Fill', 'Zoning Dist1',\n",
      "       'Zoning Dist2', 'Zoning Dist3', 'Special District 1',\n",
      "       'Special District 2', 'Owner Type', 'Non-Profit', 'Owner's First Name',\n",
      "       'Owner's Last Name', 'Owner's Business Name', 'Owner's House Number',\n",
      "       'Owner'sHouse Street Name', 'City ', 'State', 'Zip', 'Owner'sPhone #',\n",
      "       'Job Description', 'DOBRunDate'],\n",
      "      dtype='object')\n"
     ]
    }
   ],
   "source": [
    "print(df.columns)"
   ]
  },
  {
   "cell_type": "markdown",
   "metadata": {},
   "source": [
    "## 1.2 Further diagnosis"
   ]
  },
  {
   "cell_type": "code",
   "execution_count": 19,
   "metadata": {},
   "outputs": [
    {
     "name": "stdout",
     "output_type": "stream",
     "text": [
      "<class 'pandas.core.frame.DataFrame'>\n",
      "RangeIndex: 12846 entries, 0 to 12845\n",
      "Data columns (total 82 columns):\n",
      "Job #                           12846 non-null int64\n",
      "Doc #                           12846 non-null int64\n",
      "Borough                         12846 non-null object\n",
      "House #                         12846 non-null object\n",
      "Street Name                     12846 non-null object\n",
      "Block                           12846 non-null int64\n",
      "Lot                             12846 non-null int64\n",
      "Bin #                           12846 non-null int64\n",
      "Job Type                        12846 non-null object\n",
      "Job Status                      12846 non-null object\n",
      "Job Status Descrp               12846 non-null object\n",
      "Latest Action Date              12846 non-null object\n",
      "Building Type                   12846 non-null object\n",
      "Community - Board               12846 non-null object\n",
      "Cluster                         0 non-null float64\n",
      "Landmarked                      2067 non-null object\n",
      "Adult Estab                     1 non-null object\n",
      "Loft Board                      65 non-null object\n",
      "City Owned                      1419 non-null object\n",
      "Little e                        365 non-null object\n",
      "PC Filed                        0 non-null float64\n",
      "eFiling Filed                   12846 non-null object\n",
      "Plumbing                        12846 non-null object\n",
      "Mechanical                      12846 non-null object\n",
      "Boiler                          12846 non-null object\n",
      "Fuel Burning                    12846 non-null object\n",
      "Fuel Storage                    12846 non-null object\n",
      "Standpipe                       12846 non-null object\n",
      "Sprinkler                       12846 non-null object\n",
      "Fire Alarm                      12846 non-null object\n",
      "Equipment                       12846 non-null object\n",
      "Fire Suppression                12846 non-null object\n",
      "Curb Cut                        12846 non-null object\n",
      "Other                           12846 non-null object\n",
      "Other Description               12846 non-null object\n",
      "Applicant's First Name          12846 non-null object\n",
      "Applicant's Last Name           12846 non-null object\n",
      "Applicant Professional Title    12846 non-null object\n",
      "Applicant License #             12846 non-null object\n",
      "Professional Cert               6908 non-null object\n",
      "Pre- Filing Date                12846 non-null object\n",
      "Paid                            11961 non-null object\n",
      "Fully Paid                      11963 non-null object\n",
      "Assigned                        3817 non-null object\n",
      "Approved                        4062 non-null object\n",
      "Fully Permitted                 1495 non-null object\n",
      "Initial Cost                    12846 non-null object\n",
      "Total Est. Fee                  12846 non-null object\n",
      "Fee Status                      12846 non-null object\n",
      "Existing Zoning Sqft            12846 non-null int64\n",
      "Proposed Zoning Sqft            12846 non-null int64\n",
      "Horizontal Enlrgmt              231 non-null object\n",
      "Vertical Enlrgmt                142 non-null object\n",
      "Enlargement SQ Footage          12846 non-null int64\n",
      "Street Frontage                 12846 non-null int64\n",
      "ExistingNo. of Stories          12846 non-null int64\n",
      "Proposed No. of Stories         12846 non-null int64\n",
      "Existing Height                 12846 non-null int64\n",
      "Proposed Height                 12846 non-null int64\n",
      "Existing Dwelling Units         12846 non-null object\n",
      "Proposed Dwelling Units         12846 non-null object\n",
      "Existing Occupancy              12846 non-null object\n",
      "Proposed Occupancy              12846 non-null object\n",
      "Site Fill                       8641 non-null object\n",
      "Zoning Dist1                    11263 non-null object\n",
      "Zoning Dist2                    1652 non-null object\n",
      "Zoning Dist3                    88 non-null object\n",
      "Special District 1              3062 non-null object\n",
      "Special District 2              848 non-null object\n",
      "Owner Type                      0 non-null float64\n",
      "Non-Profit                      971 non-null object\n",
      "Owner's First Name              12846 non-null object\n",
      "Owner's Last Name               12846 non-null object\n",
      "Owner's Business Name           12846 non-null object\n",
      "Owner's House Number            12846 non-null object\n",
      "Owner'sHouse Street Name        12846 non-null object\n",
      "City                            12846 non-null object\n",
      "State                           12846 non-null object\n",
      "Zip                             12846 non-null int64\n",
      "Owner'sPhone #                  12846 non-null int64\n",
      "Job Description                 12699 non-null object\n",
      "DOBRunDate                      12846 non-null object\n",
      "dtypes: float64(3), int64(15), object(64)\n",
      "memory usage: 8.0+ MB\n",
      "None\n"
     ]
    }
   ],
   "source": [
    "print(df.info())"
   ]
  },
  {
   "cell_type": "code",
   "execution_count": 20,
   "metadata": {},
   "outputs": [
    {
     "data": {
      "text/html": [
       "<div>\n",
       "<style>\n",
       "    .dataframe thead tr:only-child th {\n",
       "        text-align: right;\n",
       "    }\n",
       "\n",
       "    .dataframe thead th {\n",
       "        text-align: left;\n",
       "    }\n",
       "\n",
       "    .dataframe tbody tr th {\n",
       "        vertical-align: top;\n",
       "    }\n",
       "</style>\n",
       "<table border=\"1\" class=\"dataframe\">\n",
       "  <thead>\n",
       "    <tr style=\"text-align: right;\">\n",
       "      <th></th>\n",
       "      <th>Job #</th>\n",
       "      <th>Doc #</th>\n",
       "      <th>Block</th>\n",
       "      <th>Lot</th>\n",
       "      <th>Bin #</th>\n",
       "      <th>Cluster</th>\n",
       "      <th>PC Filed</th>\n",
       "      <th>Existing Zoning Sqft</th>\n",
       "      <th>Proposed Zoning Sqft</th>\n",
       "      <th>Enlargement SQ Footage</th>\n",
       "      <th>Street Frontage</th>\n",
       "      <th>ExistingNo. of Stories</th>\n",
       "      <th>Proposed No. of Stories</th>\n",
       "      <th>Existing Height</th>\n",
       "      <th>Proposed Height</th>\n",
       "      <th>Owner Type</th>\n",
       "      <th>Zip</th>\n",
       "      <th>Owner'sPhone #</th>\n",
       "    </tr>\n",
       "  </thead>\n",
       "  <tbody>\n",
       "    <tr>\n",
       "      <th>count</th>\n",
       "      <td>1.284600e+04</td>\n",
       "      <td>12846.000000</td>\n",
       "      <td>12846.000000</td>\n",
       "      <td>12846.000000</td>\n",
       "      <td>1.284600e+04</td>\n",
       "      <td>0.0</td>\n",
       "      <td>0.0</td>\n",
       "      <td>1.284600e+04</td>\n",
       "      <td>1.284600e+04</td>\n",
       "      <td>12846.000000</td>\n",
       "      <td>12846.000000</td>\n",
       "      <td>12846.000000</td>\n",
       "      <td>12846.000000</td>\n",
       "      <td>12846.000000</td>\n",
       "      <td>12846.000000</td>\n",
       "      <td>0.0</td>\n",
       "      <td>1.284600e+04</td>\n",
       "      <td>1.284600e+04</td>\n",
       "    </tr>\n",
       "    <tr>\n",
       "      <th>mean</th>\n",
       "      <td>2.426788e+08</td>\n",
       "      <td>1.162930</td>\n",
       "      <td>2703.834735</td>\n",
       "      <td>623.303441</td>\n",
       "      <td>2.314997e+06</td>\n",
       "      <td>NaN</td>\n",
       "      <td>NaN</td>\n",
       "      <td>1.439973e+03</td>\n",
       "      <td>2.007286e+03</td>\n",
       "      <td>46.101432</td>\n",
       "      <td>3.069360</td>\n",
       "      <td>8.062354</td>\n",
       "      <td>8.144325</td>\n",
       "      <td>94.022809</td>\n",
       "      <td>94.917562</td>\n",
       "      <td>NaN</td>\n",
       "      <td>1.210268e+06</td>\n",
       "      <td>5.025739e+09</td>\n",
       "    </tr>\n",
       "    <tr>\n",
       "      <th>std</th>\n",
       "      <td>1.312507e+08</td>\n",
       "      <td>0.514937</td>\n",
       "      <td>3143.002812</td>\n",
       "      <td>2000.934794</td>\n",
       "      <td>1.399062e+06</td>\n",
       "      <td>NaN</td>\n",
       "      <td>NaN</td>\n",
       "      <td>3.860757e+04</td>\n",
       "      <td>4.081570e+04</td>\n",
       "      <td>784.216569</td>\n",
       "      <td>37.246034</td>\n",
       "      <td>11.874080</td>\n",
       "      <td>11.843492</td>\n",
       "      <td>146.917360</td>\n",
       "      <td>146.580666</td>\n",
       "      <td>NaN</td>\n",
       "      <td>1.343588e+07</td>\n",
       "      <td>2.738212e+09</td>\n",
       "    </tr>\n",
       "    <tr>\n",
       "      <th>min</th>\n",
       "      <td>1.036438e+08</td>\n",
       "      <td>1.000000</td>\n",
       "      <td>1.000000</td>\n",
       "      <td>0.000000</td>\n",
       "      <td>1.000003e+06</td>\n",
       "      <td>NaN</td>\n",
       "      <td>NaN</td>\n",
       "      <td>0.000000e+00</td>\n",
       "      <td>0.000000e+00</td>\n",
       "      <td>0.000000</td>\n",
       "      <td>0.000000</td>\n",
       "      <td>0.000000</td>\n",
       "      <td>0.000000</td>\n",
       "      <td>0.000000</td>\n",
       "      <td>0.000000</td>\n",
       "      <td>NaN</td>\n",
       "      <td>8.300000e+02</td>\n",
       "      <td>0.000000e+00</td>\n",
       "    </tr>\n",
       "    <tr>\n",
       "      <th>25%</th>\n",
       "      <td>1.216206e+08</td>\n",
       "      <td>1.000000</td>\n",
       "      <td>836.000000</td>\n",
       "      <td>12.000000</td>\n",
       "      <td>1.035728e+06</td>\n",
       "      <td>NaN</td>\n",
       "      <td>NaN</td>\n",
       "      <td>0.000000e+00</td>\n",
       "      <td>0.000000e+00</td>\n",
       "      <td>0.000000</td>\n",
       "      <td>0.000000</td>\n",
       "      <td>1.000000</td>\n",
       "      <td>2.000000</td>\n",
       "      <td>20.000000</td>\n",
       "      <td>21.000000</td>\n",
       "      <td>NaN</td>\n",
       "      <td>1.001900e+04</td>\n",
       "      <td>2.126841e+09</td>\n",
       "    </tr>\n",
       "    <tr>\n",
       "      <th>50%</th>\n",
       "      <td>2.202645e+08</td>\n",
       "      <td>1.000000</td>\n",
       "      <td>1411.500000</td>\n",
       "      <td>32.000000</td>\n",
       "      <td>2.004234e+06</td>\n",
       "      <td>NaN</td>\n",
       "      <td>NaN</td>\n",
       "      <td>0.000000e+00</td>\n",
       "      <td>0.000000e+00</td>\n",
       "      <td>0.000000</td>\n",
       "      <td>0.000000</td>\n",
       "      <td>4.000000</td>\n",
       "      <td>4.000000</td>\n",
       "      <td>45.000000</td>\n",
       "      <td>45.000000</td>\n",
       "      <td>NaN</td>\n",
       "      <td>1.031000e+04</td>\n",
       "      <td>5.169379e+09</td>\n",
       "    </tr>\n",
       "    <tr>\n",
       "      <th>75%</th>\n",
       "      <td>3.208652e+08</td>\n",
       "      <td>1.000000</td>\n",
       "      <td>3355.000000</td>\n",
       "      <td>59.000000</td>\n",
       "      <td>3.343823e+06</td>\n",
       "      <td>NaN</td>\n",
       "      <td>NaN</td>\n",
       "      <td>0.000000e+00</td>\n",
       "      <td>0.000000e+00</td>\n",
       "      <td>0.000000</td>\n",
       "      <td>0.000000</td>\n",
       "      <td>9.000000</td>\n",
       "      <td>9.000000</td>\n",
       "      <td>105.000000</td>\n",
       "      <td>107.000000</td>\n",
       "      <td>NaN</td>\n",
       "      <td>1.122100e+04</td>\n",
       "      <td>7.186809e+09</td>\n",
       "    </tr>\n",
       "    <tr>\n",
       "      <th>max</th>\n",
       "      <td>5.400246e+08</td>\n",
       "      <td>9.000000</td>\n",
       "      <td>99999.000000</td>\n",
       "      <td>9078.000000</td>\n",
       "      <td>5.864852e+06</td>\n",
       "      <td>NaN</td>\n",
       "      <td>NaN</td>\n",
       "      <td>2.873107e+06</td>\n",
       "      <td>2.873107e+06</td>\n",
       "      <td>50384.000000</td>\n",
       "      <td>3160.000000</td>\n",
       "      <td>102.000000</td>\n",
       "      <td>102.000000</td>\n",
       "      <td>4200.000000</td>\n",
       "      <td>4200.000000</td>\n",
       "      <td>NaN</td>\n",
       "      <td>6.063135e+08</td>\n",
       "      <td>9.787266e+09</td>\n",
       "    </tr>\n",
       "  </tbody>\n",
       "</table>\n",
       "</div>"
      ],
      "text/plain": [
       "              Job #         Doc #         Block           Lot         Bin #  \\\n",
       "count  1.284600e+04  12846.000000  12846.000000  12846.000000  1.284600e+04   \n",
       "mean   2.426788e+08      1.162930   2703.834735    623.303441  2.314997e+06   \n",
       "std    1.312507e+08      0.514937   3143.002812   2000.934794  1.399062e+06   \n",
       "min    1.036438e+08      1.000000      1.000000      0.000000  1.000003e+06   \n",
       "25%    1.216206e+08      1.000000    836.000000     12.000000  1.035728e+06   \n",
       "50%    2.202645e+08      1.000000   1411.500000     32.000000  2.004234e+06   \n",
       "75%    3.208652e+08      1.000000   3355.000000     59.000000  3.343823e+06   \n",
       "max    5.400246e+08      9.000000  99999.000000   9078.000000  5.864852e+06   \n",
       "\n",
       "       Cluster  PC Filed  Existing Zoning Sqft  Proposed Zoning Sqft  \\\n",
       "count      0.0       0.0          1.284600e+04          1.284600e+04   \n",
       "mean       NaN       NaN          1.439973e+03          2.007286e+03   \n",
       "std        NaN       NaN          3.860757e+04          4.081570e+04   \n",
       "min        NaN       NaN          0.000000e+00          0.000000e+00   \n",
       "25%        NaN       NaN          0.000000e+00          0.000000e+00   \n",
       "50%        NaN       NaN          0.000000e+00          0.000000e+00   \n",
       "75%        NaN       NaN          0.000000e+00          0.000000e+00   \n",
       "max        NaN       NaN          2.873107e+06          2.873107e+06   \n",
       "\n",
       "       Enlargement SQ Footage  Street Frontage  ExistingNo. of Stories  \\\n",
       "count            12846.000000     12846.000000            12846.000000   \n",
       "mean                46.101432         3.069360                8.062354   \n",
       "std                784.216569        37.246034               11.874080   \n",
       "min                  0.000000         0.000000                0.000000   \n",
       "25%                  0.000000         0.000000                1.000000   \n",
       "50%                  0.000000         0.000000                4.000000   \n",
       "75%                  0.000000         0.000000                9.000000   \n",
       "max              50384.000000      3160.000000              102.000000   \n",
       "\n",
       "       Proposed No. of Stories  Existing Height  Proposed Height  Owner Type  \\\n",
       "count             12846.000000     12846.000000     12846.000000         0.0   \n",
       "mean                  8.144325        94.022809        94.917562         NaN   \n",
       "std                  11.843492       146.917360       146.580666         NaN   \n",
       "min                   0.000000         0.000000         0.000000         NaN   \n",
       "25%                   2.000000        20.000000        21.000000         NaN   \n",
       "50%                   4.000000        45.000000        45.000000         NaN   \n",
       "75%                   9.000000       105.000000       107.000000         NaN   \n",
       "max                 102.000000      4200.000000      4200.000000         NaN   \n",
       "\n",
       "                Zip  Owner'sPhone #  \n",
       "count  1.284600e+04    1.284600e+04  \n",
       "mean   1.210268e+06    5.025739e+09  \n",
       "std    1.343588e+07    2.738212e+09  \n",
       "min    8.300000e+02    0.000000e+00  \n",
       "25%    1.001900e+04    2.126841e+09  \n",
       "50%    1.031000e+04    5.169379e+09  \n",
       "75%    1.122100e+04    7.186809e+09  \n",
       "max    6.063135e+08    9.787266e+09  "
      ]
     },
     "execution_count": 20,
     "metadata": {},
     "output_type": "execute_result"
    }
   ],
   "source": [
    "df.describe()"
   ]
  },
  {
   "cell_type": "markdown",
   "metadata": {},
   "source": [
    "# 2. Exploratory data analysis"
   ]
  },
  {
   "cell_type": "markdown",
   "metadata": {},
   "source": [
    "Print the value counts for 'Borough'"
   ]
  },
  {
   "cell_type": "code",
   "execution_count": 22,
   "metadata": {},
   "outputs": [
    {
     "name": "stdout",
     "output_type": "stream",
     "text": [
      "MANHATTAN        6310\n",
      "BROOKLYN         2866\n",
      "QUEENS           2121\n",
      "BRONX             974\n",
      "STATEN ISLAND     575\n",
      "Name: Borough, dtype: int64\n"
     ]
    }
   ],
   "source": [
    "print(df['Borough'].value_counts(dropna=False))"
   ]
  },
  {
   "cell_type": "markdown",
   "metadata": {},
   "source": [
    "Print the value counts for 'State'"
   ]
  },
  {
   "cell_type": "code",
   "execution_count": 24,
   "metadata": {},
   "outputs": [
    {
     "name": "stdout",
     "output_type": "stream",
     "text": [
      "NY    12391\n",
      "NJ      241\n",
      "PA       38\n",
      "CA       20\n",
      "OH       19\n",
      "IL       17\n",
      "FL       17\n",
      "CT       16\n",
      "TX       13\n",
      "TN       10\n",
      "MD        7\n",
      "DC        7\n",
      "KS        6\n",
      "MA        6\n",
      "GA        6\n",
      "VA        5\n",
      "CO        4\n",
      "WI        3\n",
      "AZ        3\n",
      "MN        3\n",
      "SC        3\n",
      "RI        2\n",
      "UT        2\n",
      "NC        2\n",
      "MI        1\n",
      "IN        1\n",
      "NM        1\n",
      "VT        1\n",
      "WA        1\n",
      "Name: State, dtype: int64\n"
     ]
    }
   ],
   "source": [
    "print(df['State'].value_counts(dropna=False))"
   ]
  },
  {
   "cell_type": "markdown",
   "metadata": {},
   "source": [
    "Print the value counts for 'Site Fill'"
   ]
  },
  {
   "cell_type": "code",
   "execution_count": 25,
   "metadata": {},
   "outputs": [
    {
     "name": "stdout",
     "output_type": "stream",
     "text": [
      "NOT APPLICABLE                              7806\n",
      "NaN                                         4205\n",
      "ON-SITE                                      519\n",
      "OFF-SITE                                     186\n",
      "USE UNDER 300 CU.YD                          130\n",
      "Name: Site Fill, dtype: int64\n"
     ]
    }
   ],
   "source": [
    "print(df['Site Fill'].value_counts(dropna=False))"
   ]
  },
  {
   "cell_type": "markdown",
   "metadata": {},
   "source": [
    "# 3. Visual exploratory data analysis"
   ]
  },
  {
   "cell_type": "markdown",
   "metadata": {},
   "source": [
    "## 3.1 Visualizing single variables with histograms"
   ]
  },
  {
   "cell_type": "markdown",
   "metadata": {},
   "source": [
    "Until now, you've been looking at descriptive statistics of your data. One of the best\n",
    "ways to confirm what the numbers are telling you is to plot and visualize the data. We\n",
    "will use the Python library matplotlib to visualize data.\n",
    "You'll start by visualizing single variables using a histogram for numeric values. The\n",
    "column you will work on in this exercise is 'Existing Zoning Sqft'"
   ]
  },
  {
   "cell_type": "code",
   "execution_count": 33,
   "metadata": {
    "collapsed": true
   },
   "outputs": [],
   "source": [
    "import matplotlib.pyplot as plt"
   ]
  },
  {
   "cell_type": "markdown",
   "metadata": {},
   "source": [
    "Plot the histogram"
   ]
  },
  {
   "cell_type": "code",
   "execution_count": 44,
   "metadata": {},
   "outputs": [
    {
     "data": {
      "image/png": "[encoded data removed]",
      "text/plain": [
       "<matplotlib.figure.Figure at 0xb4aa668>"
      ]
     },
     "metadata": {},
     "output_type": "display_data"
    }
   ],
   "source": [
    "df['Existing Zoning Sqft'].plot(kind='hist', rot=70, logx=True, logy=True)\n",
    "plt.show()"
   ]
  },
  {
   "cell_type": "markdown",
   "metadata": {},
   "source": [
    "## 3.2 Visualizing multiple variables with boxplots"
   ]
  },
  {
   "cell_type": "markdown",
   "metadata": {},
   "source": [
    "Histograms are a good way of visualizing single variables. To visualize multiple\n",
    "variables, boxplots are useful, especially when one of the variables is categorical."
   ]
  },
  {
   "cell_type": "markdown",
   "metadata": {},
   "source": [
    "import necessary modules"
   ]
  },
  {
   "cell_type": "code",
   "execution_count": 38,
   "metadata": {
    "collapsed": true
   },
   "outputs": [],
   "source": [
    "import pandas as pd\n",
    "import matplotlib.pyplot as plt"
   ]
  },
  {
   "cell_type": "markdown",
   "metadata": {},
   "source": [
    "create the boxplot & display the plot"
   ]
  },
  {
   "cell_type": "code",
   "execution_count": 39,
   "metadata": {},
   "outputs": [
    {
     "data": {
      "text/plain": [
       "0    75,000 \n",
       "1         0 \n",
       "2    30,000 \n",
       "3     1,500 \n",
       "4    19,500 \n",
       "Name: Initial Cost, dtype: object"
      ]
     },
     "execution_count": 39,
     "metadata": {},
     "output_type": "execute_result"
    }
   ],
   "source": [
    "df['Initial Cost'].head(5)"
   ]
  },
  {
   "cell_type": "code",
   "execution_count": 42,
   "metadata": {},
   "outputs": [
    {
     "name": "stderr",
     "output_type": "stream",
     "text": [
      "C:\\ProgramData\\Anaconda3\\lib\\site-packages\\numpy\\core\\fromnumeric.py:57: FutureWarning: reshape is deprecated and will raise in a subsequent release. Please use .values.reshape(...) instead\n",
      "  return getattr(obj, method)(*args, **kwds)\n"
     ]
    },
    {
     "data": {
      "image/png": "[encoded data removed]",
      "text/plain": [
       "<matplotlib.figure.Figure at 0xbd18748>"
      ]
     },
     "metadata": {},
     "output_type": "display_data"
    }
   ],
   "source": [
    "df['Initial Cost'] = pd.to_numeric(df['Initial Cost'], errors='coerce')\n",
    "df.boxplot(column='Initial Cost', by='Borough', rot=90)\n",
    "plt.show()"
   ]
  },
  {
   "cell_type": "markdown",
   "metadata": {},
   "source": [
    "## 3.3 Visualizing multiple variables with scatter plots"
   ]
  },
  {
   "cell_type": "markdown",
   "metadata": {},
   "source": [
    "Boxplots are great when you have a numeric column that you want to compare\n",
    "across different categories. When you want to visualize two numeric columns, scatter\n",
    "plots are ideal."
   ]
  },
  {
   "cell_type": "markdown",
   "metadata": {},
   "source": [
    "create and display the first scatter plot"
   ]
  },
  {
   "cell_type": "code",
   "execution_count": 45,
   "metadata": {},
   "outputs": [
    {
     "data": {
      "image/png": "[encoded data removed]",
      "text/plain": [
       "<matplotlib.figure.Figure at 0xaf0c9b0>"
      ]
     },
     "metadata": {},
     "output_type": "display_data"
    }
   ],
   "source": [
    "df['Total Est. Fee'] = pd.to_numeric(df['Total Est. Fee'], errors='coerce')\n",
    "df.plot(kind='scatter', x='Initial Cost', y='Total Est. Fee', rot=70)\n",
    "plt.show()"
   ]
  },
  {
   "cell_type": "markdown",
   "metadata": {},
   "source": [
    "Get acquainted with the dataset now by exploring it with pandas! This initial\n",
    "exploratory analysis is a crucial first step of data cleaning."
   ]
  },
  {
   "cell_type": "markdown",
   "metadata": {},
   "source": [
    "# II. Cleaning data for analysis"
   ]
  },
  {
   "cell_type": "markdown",
   "metadata": {},
   "source": [
    "## 1. Data types"
   ]
  },
  {
   "cell_type": "code",
   "execution_count": null,
   "metadata": {
    "collapsed": true
   },
   "outputs": [],
   "source": []
  }
 ],
 "metadata": {
  "kernelspec": {
   "display_name": "Python 3",
   "language": "python",
   "name": "python3"
  },
  "language_info": {
   "codemirror_mode": {
    "name": "ipython",
    "version": 3
   },
   "file_extension": ".py",
   "mimetype": "text/x-python",
   "name": "python",
   "nbconvert_exporter": "python",
   "pygments_lexer": "ipython3",
   "version": "3.6.3"
  }
 },
 "nbformat": 4,
 "nbformat_minor": 2
}
