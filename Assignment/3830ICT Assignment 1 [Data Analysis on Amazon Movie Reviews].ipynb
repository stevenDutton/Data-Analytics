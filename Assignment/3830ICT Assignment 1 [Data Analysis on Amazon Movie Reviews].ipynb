{
 "cells": [
  {
   "cell_type": "markdown",
   "metadata": {},
   "source": [
    "# Data Analysis on Amazon Movie & TV Reviews [3830ICT Assignment 1]"
   ]
  },
  {
   "cell_type": "markdown",
   "metadata": {},
   "source": [
    "# 1. Data Preperation & Preprocessing"
   ]
  },
  {
   "cell_type": "markdown",
   "metadata": {},
   "source": [
    "## 1.1. Read the Dataset"
   ]
  },
  {
   "cell_type": "markdown",
   "metadata": {},
   "source": [
    "Import the relevant modules to be used later on:"
   ]
  },
  {
   "cell_type": "code",
   "execution_count": 1,
   "metadata": {
    "collapsed": true
   },
   "outputs": [],
   "source": [
    "%matplotlib inline\n",
    "import numpy as np\n",
    "import pandas as pd\n",
    "import seaborn as sns\n",
    "import gzip"
   ]
  },
  {
   "cell_type": "markdown",
   "metadata": {},
   "source": [
    "The dataset is in .json.gz format (GZipped JavaScript Object Notation)"
   ]
  },
  {
   "cell_type": "markdown",
   "metadata": {},
   "source": [
    "Read the dataset:"
   ]
  },
  {
   "cell_type": "code",
   "execution_count": 2,
   "metadata": {},
   "outputs": [],
   "source": [
    "def parse(path):\n",
    "  g = gzip.open(path, 'rb')\n",
    "  for l in g:\n",
    "    yield eval(l)\n",
    "\n",
    "def getDF(path):\n",
    "  i = 0\n",
    "  df = {}\n",
    "  for d in parse(path):\n",
    "    df[i] = d\n",
    "    i += 1\n",
    "  return pd.DataFrame.from_dict(df, orient='index')\n",
    "\n",
    "df = getDF('reviews_Movies_and_TV_5.json.gz')"
   ]
  },
  {
   "cell_type": "markdown",
   "metadata": {},
   "source": [
    "This dataset contains product reviews and metadata from Amazon, specific to the Movies & TV category."
   ]
  },
  {
   "cell_type": "markdown",
   "metadata": {},
   "source": [
    "## 1.2. View the Dataset (before cleaning)"
   ]
  },
  {
   "cell_type": "markdown",
   "metadata": {},
   "source": [
    "The following methods allow us to describe and view the dataset before cleaning."
   ]
  },
  {
   "cell_type": "markdown",
   "metadata": {},
   "source": [
    "View the head of the dataset:"
   ]
  },
  {
   "cell_type": "code",
   "execution_count": 3,
   "metadata": {},
   "outputs": [
    {
     "data": {
      "text/html": [
       "<div>\n",
       "<style>\n",
       "    .dataframe thead tr:only-child th {\n",
       "        text-align: right;\n",
       "    }\n",
       "\n",
       "    .dataframe thead th {\n",
       "        text-align: left;\n",
       "    }\n",
       "\n",
       "    .dataframe tbody tr th {\n",
       "        vertical-align: top;\n",
       "    }\n",
       "</style>\n",
       "<table border=\"1\" class=\"dataframe\">\n",
       "  <thead>\n",
       "    <tr style=\"text-align: right;\">\n",
       "      <th></th>\n",
       "      <th>reviewerID</th>\n",
       "      <th>asin</th>\n",
       "      <th>reviewerName</th>\n",
       "      <th>helpful</th>\n",
       "      <th>reviewText</th>\n",
       "      <th>overall</th>\n",
       "      <th>summary</th>\n",
       "      <th>unixReviewTime</th>\n",
       "      <th>reviewTime</th>\n",
       "    </tr>\n",
       "  </thead>\n",
       "  <tbody>\n",
       "    <tr>\n",
       "      <th>0</th>\n",
       "      <td>ADZPIG9QOCDG5</td>\n",
       "      <td>0005019281</td>\n",
       "      <td>Alice L. Larson \"alice-loves-books\"</td>\n",
       "      <td>[0, 0]</td>\n",
       "      <td>This is a charming version of the classic Dick...</td>\n",
       "      <td>4.0</td>\n",
       "      <td>good version of a classic</td>\n",
       "      <td>1203984000</td>\n",
       "      <td>02 26, 2008</td>\n",
       "    </tr>\n",
       "    <tr>\n",
       "      <th>1</th>\n",
       "      <td>A35947ZP82G7JH</td>\n",
       "      <td>0005019281</td>\n",
       "      <td>Amarah Strack</td>\n",
       "      <td>[0, 0]</td>\n",
       "      <td>It was good but not as emotionally moving as t...</td>\n",
       "      <td>3.0</td>\n",
       "      <td>Good but not as moving</td>\n",
       "      <td>1388361600</td>\n",
       "      <td>12 30, 2013</td>\n",
       "    </tr>\n",
       "    <tr>\n",
       "      <th>2</th>\n",
       "      <td>A3UORV8A9D5L2E</td>\n",
       "      <td>0005019281</td>\n",
       "      <td>Amazon Customer</td>\n",
       "      <td>[0, 0]</td>\n",
       "      <td>Don't get me wrong, Winkler is a wonderful cha...</td>\n",
       "      <td>3.0</td>\n",
       "      <td>Winkler's Performance was ok at best!</td>\n",
       "      <td>1388361600</td>\n",
       "      <td>12 30, 2013</td>\n",
       "    </tr>\n",
       "    <tr>\n",
       "      <th>3</th>\n",
       "      <td>A1VKW06X1O2X7V</td>\n",
       "      <td>0005019281</td>\n",
       "      <td>Amazon Customer \"Softmill\"</td>\n",
       "      <td>[0, 0]</td>\n",
       "      <td>Henry Winkler is very good in this twist on th...</td>\n",
       "      <td>5.0</td>\n",
       "      <td>It's an enjoyable twist on the classic story</td>\n",
       "      <td>1202860800</td>\n",
       "      <td>02 13, 2008</td>\n",
       "    </tr>\n",
       "    <tr>\n",
       "      <th>4</th>\n",
       "      <td>A3R27T4HADWFFJ</td>\n",
       "      <td>0005019281</td>\n",
       "      <td>BABE</td>\n",
       "      <td>[0, 0]</td>\n",
       "      <td>This is one of the best Scrooge movies out.  H...</td>\n",
       "      <td>4.0</td>\n",
       "      <td>Best Scrooge yet</td>\n",
       "      <td>1387670400</td>\n",
       "      <td>12 22, 2013</td>\n",
       "    </tr>\n",
       "    <tr>\n",
       "      <th>5</th>\n",
       "      <td>A2L0G56BNOTX6S</td>\n",
       "      <td>0005019281</td>\n",
       "      <td>barbara whapeles</td>\n",
       "      <td>[0, 0]</td>\n",
       "      <td>This has been a favorite movie of mine for a l...</td>\n",
       "      <td>5.0</td>\n",
       "      <td>Dickens updated.</td>\n",
       "      <td>1383696000</td>\n",
       "      <td>11 6, 2013</td>\n",
       "    </tr>\n",
       "    <tr>\n",
       "      <th>6</th>\n",
       "      <td>A5NYUBEKXFLX5</td>\n",
       "      <td>0005019281</td>\n",
       "      <td>B. Babb \"kites0852\"</td>\n",
       "      <td>[1, 1]</td>\n",
       "      <td>This is the American adaptation of the Charles...</td>\n",
       "      <td>5.0</td>\n",
       "      <td>A MUST-HAVE FOR ANY VIDEO CHRISTMAS COLLECTION!!</td>\n",
       "      <td>1230595200</td>\n",
       "      <td>12 30, 2008</td>\n",
       "    </tr>\n",
       "    <tr>\n",
       "      <th>7</th>\n",
       "      <td>A2DJ8B8GE4V2VD</td>\n",
       "      <td>0005019281</td>\n",
       "      <td>Berl S. Meyer</td>\n",
       "      <td>[0, 0]</td>\n",
       "      <td>Glad that this american classic came out on dv...</td>\n",
       "      <td>5.0</td>\n",
       "      <td>An American Christmas Carol</td>\n",
       "      <td>1260835200</td>\n",
       "      <td>12 15, 2009</td>\n",
       "    </tr>\n",
       "    <tr>\n",
       "      <th>8</th>\n",
       "      <td>AWF2S3UNW9UA0</td>\n",
       "      <td>0005019281</td>\n",
       "      <td>beth holman</td>\n",
       "      <td>[0, 0]</td>\n",
       "      <td>A good Christmas carol dhenry winkler one duri...</td>\n",
       "      <td>5.0</td>\n",
       "      <td>an american christmas carol</td>\n",
       "      <td>1386201600</td>\n",
       "      <td>12 5, 2013</td>\n",
       "    </tr>\n",
       "    <tr>\n",
       "      <th>9</th>\n",
       "      <td>A3O4UUT83DG3OU</td>\n",
       "      <td>0005019281</td>\n",
       "      <td>Bettylou Sperling</td>\n",
       "      <td>[0, 0]</td>\n",
       "      <td>How a bitter old man comes to know the true me...</td>\n",
       "      <td>5.0</td>\n",
       "      <td>Fantastic!</td>\n",
       "      <td>1379721600</td>\n",
       "      <td>09 21, 2013</td>\n",
       "    </tr>\n",
       "  </tbody>\n",
       "</table>\n",
       "</div>"
      ],
      "text/plain": [
       "       reviewerID        asin                         reviewerName helpful  \\\n",
       "0   ADZPIG9QOCDG5  0005019281  Alice L. Larson \"alice-loves-books\"  [0, 0]   \n",
       "1  A35947ZP82G7JH  0005019281                        Amarah Strack  [0, 0]   \n",
       "2  A3UORV8A9D5L2E  0005019281                      Amazon Customer  [0, 0]   \n",
       "3  A1VKW06X1O2X7V  0005019281           Amazon Customer \"Softmill\"  [0, 0]   \n",
       "4  A3R27T4HADWFFJ  0005019281                                 BABE  [0, 0]   \n",
       "5  A2L0G56BNOTX6S  0005019281                     barbara whapeles  [0, 0]   \n",
       "6   A5NYUBEKXFLX5  0005019281                  B. Babb \"kites0852\"  [1, 1]   \n",
       "7  A2DJ8B8GE4V2VD  0005019281                        Berl S. Meyer  [0, 0]   \n",
       "8   AWF2S3UNW9UA0  0005019281                          beth holman  [0, 0]   \n",
       "9  A3O4UUT83DG3OU  0005019281                    Bettylou Sperling  [0, 0]   \n",
       "\n",
       "                                          reviewText  overall  \\\n",
       "0  This is a charming version of the classic Dick...      4.0   \n",
       "1  It was good but not as emotionally moving as t...      3.0   \n",
       "2  Don't get me wrong, Winkler is a wonderful cha...      3.0   \n",
       "3  Henry Winkler is very good in this twist on th...      5.0   \n",
       "4  This is one of the best Scrooge movies out.  H...      4.0   \n",
       "5  This has been a favorite movie of mine for a l...      5.0   \n",
       "6  This is the American adaptation of the Charles...      5.0   \n",
       "7  Glad that this american classic came out on dv...      5.0   \n",
       "8  A good Christmas carol dhenry winkler one duri...      5.0   \n",
       "9  How a bitter old man comes to know the true me...      5.0   \n",
       "\n",
       "                                            summary  unixReviewTime  \\\n",
       "0                         good version of a classic      1203984000   \n",
       "1                            Good but not as moving      1388361600   \n",
       "2             Winkler's Performance was ok at best!      1388361600   \n",
       "3      It's an enjoyable twist on the classic story      1202860800   \n",
       "4                                  Best Scrooge yet      1387670400   \n",
       "5                                  Dickens updated.      1383696000   \n",
       "6  A MUST-HAVE FOR ANY VIDEO CHRISTMAS COLLECTION!!      1230595200   \n",
       "7                       An American Christmas Carol      1260835200   \n",
       "8                       an american christmas carol      1386201600   \n",
       "9                                        Fantastic!      1379721600   \n",
       "\n",
       "    reviewTime  \n",
       "0  02 26, 2008  \n",
       "1  12 30, 2013  \n",
       "2  12 30, 2013  \n",
       "3  02 13, 2008  \n",
       "4  12 22, 2013  \n",
       "5   11 6, 2013  \n",
       "6  12 30, 2008  \n",
       "7  12 15, 2009  \n",
       "8   12 5, 2013  \n",
       "9  09 21, 2013  "
      ]
     },
     "execution_count": 3,
     "metadata": {},
     "output_type": "execute_result"
    }
   ],
   "source": [
    "df.head(10)"
   ]
  },
  {
   "cell_type": "markdown",
   "metadata": {},
   "source": [
    "View the tail of the dataset:"
   ]
  },
  {
   "cell_type": "code",
   "execution_count": 4,
   "metadata": {},
   "outputs": [
    {
     "data": {
      "text/html": [
       "<div>\n",
       "<style>\n",
       "    .dataframe thead tr:only-child th {\n",
       "        text-align: right;\n",
       "    }\n",
       "\n",
       "    .dataframe thead th {\n",
       "        text-align: left;\n",
       "    }\n",
       "\n",
       "    .dataframe tbody tr th {\n",
       "        vertical-align: top;\n",
       "    }\n",
       "</style>\n",
       "<table border=\"1\" class=\"dataframe\">\n",
       "  <thead>\n",
       "    <tr style=\"text-align: right;\">\n",
       "      <th></th>\n",
       "      <th>reviewerID</th>\n",
       "      <th>asin</th>\n",
       "      <th>reviewerName</th>\n",
       "      <th>helpful</th>\n",
       "      <th>reviewText</th>\n",
       "      <th>overall</th>\n",
       "      <th>summary</th>\n",
       "      <th>unixReviewTime</th>\n",
       "      <th>reviewTime</th>\n",
       "    </tr>\n",
       "  </thead>\n",
       "  <tbody>\n",
       "    <tr>\n",
       "      <th>1697523</th>\n",
       "      <td>APO10VQE3MAKE</td>\n",
       "      <td>B00LT1JHLW</td>\n",
       "      <td>D. Atkinson</td>\n",
       "      <td>[2, 9]</td>\n",
       "      <td>Well it is finally coming to fruition!  Batman...</td>\n",
       "      <td>5.0</td>\n",
       "      <td>Finally!</td>\n",
       "      <td>1405900800</td>\n",
       "      <td>07 21, 2014</td>\n",
       "    </tr>\n",
       "    <tr>\n",
       "      <th>1697524</th>\n",
       "      <td>A3PPYOJBMFBP6U</td>\n",
       "      <td>B00LT1JHLW</td>\n",
       "      <td>GranO</td>\n",
       "      <td>[3, 10]</td>\n",
       "      <td>I would also like to see the original 20th Cen...</td>\n",
       "      <td>4.0</td>\n",
       "      <td>Please Include The 'Batman In Color' Bumper Wh...</td>\n",
       "      <td>1405728000</td>\n",
       "      <td>07 19, 2014</td>\n",
       "    </tr>\n",
       "    <tr>\n",
       "      <th>1697525</th>\n",
       "      <td>A3UHLJGZ2E84A5</td>\n",
       "      <td>B00LT1JHLW</td>\n",
       "      <td>Jordan Lund \"Jordan\"</td>\n",
       "      <td>[4, 21]</td>\n",
       "      <td>Seems expensive, but it is for 120 episodes. T...</td>\n",
       "      <td>3.0</td>\n",
       "      <td>$1.57 per episode. $3.14 per hour.</td>\n",
       "      <td>1405728000</td>\n",
       "      <td>07 19, 2014</td>\n",
       "    </tr>\n",
       "    <tr>\n",
       "      <th>1697526</th>\n",
       "      <td>A22OB0DIJ5FO0G</td>\n",
       "      <td>B00LT1JHLW</td>\n",
       "      <td>Mazkoor Shariff \"dackjawson\"</td>\n",
       "      <td>[2, 12]</td>\n",
       "      <td>Looking very much forward to this release, but...</td>\n",
       "      <td>4.0</td>\n",
       "      <td>Worth the wait, but worth the asking price, too?</td>\n",
       "      <td>1405728000</td>\n",
       "      <td>07 19, 2014</td>\n",
       "    </tr>\n",
       "    <tr>\n",
       "      <th>1697527</th>\n",
       "      <td>A2CA2Q6JS6CQAE</td>\n",
       "      <td>B00LT1JHLW</td>\n",
       "      <td>Michael Harris \"Michael Harris\"</td>\n",
       "      <td>[10, 14]</td>\n",
       "      <td>Finally to be released on DVD and Blu-Ray Nove...</td>\n",
       "      <td>5.0</td>\n",
       "      <td>Finally on dvd and blu-ray The Batman TV Series</td>\n",
       "      <td>1405987200</td>\n",
       "      <td>07 22, 2014</td>\n",
       "    </tr>\n",
       "    <tr>\n",
       "      <th>1697528</th>\n",
       "      <td>AV657BUYHHXZ2</td>\n",
       "      <td>B00LT1JHLW</td>\n",
       "      <td>Mike Rules \"Mike\"</td>\n",
       "      <td>[1, 14]</td>\n",
       "      <td>wow $269.99 for the entire series on Blu Ray??...</td>\n",
       "      <td>1.0</td>\n",
       "      <td>Way to Expensive!! WB = GREED</td>\n",
       "      <td>1406073600</td>\n",
       "      <td>07 23, 2014</td>\n",
       "    </tr>\n",
       "    <tr>\n",
       "      <th>1697529</th>\n",
       "      <td>A17W587EH23J0Q</td>\n",
       "      <td>B00LT1JHLW</td>\n",
       "      <td>Ron2900 \"Ron\"</td>\n",
       "      <td>[32, 48]</td>\n",
       "      <td>Finally, the holy grail of tv-on-dvd boxsets i...</td>\n",
       "      <td>5.0</td>\n",
       "      <td>HOLY BAT-BOXSET, BATMAN... I never thought thi...</td>\n",
       "      <td>1405641600</td>\n",
       "      <td>07 18, 2014</td>\n",
       "    </tr>\n",
       "    <tr>\n",
       "      <th>1697530</th>\n",
       "      <td>A3DE438TF1A958</td>\n",
       "      <td>B00LT1JHLW</td>\n",
       "      <td>thomas henry</td>\n",
       "      <td>[3, 10]</td>\n",
       "      <td>Could this be a true or I'm i dreaming batman ...</td>\n",
       "      <td>5.0</td>\n",
       "      <td>prayers have been answered because batman 60s ...</td>\n",
       "      <td>1405728000</td>\n",
       "      <td>07 19, 2014</td>\n",
       "    </tr>\n",
       "    <tr>\n",
       "      <th>1697531</th>\n",
       "      <td>A2RWCXDMANY0LW</td>\n",
       "      <td>B00LT1JHLW</td>\n",
       "      <td>wheev</td>\n",
       "      <td>[0, 4]</td>\n",
       "      <td>I've been a fan of the series since I was a yo...</td>\n",
       "      <td>5.0</td>\n",
       "      <td>can't Wait!</td>\n",
       "      <td>1405987200</td>\n",
       "      <td>07 22, 2014</td>\n",
       "    </tr>\n",
       "    <tr>\n",
       "      <th>1697532</th>\n",
       "      <td>A3ROPC55BE2OM9</td>\n",
       "      <td>B00LT1JHLW</td>\n",
       "      <td>WingLT</td>\n",
       "      <td>[11, 23]</td>\n",
       "      <td>People seriously need to wake up and realize t...</td>\n",
       "      <td>5.0</td>\n",
       "      <td>The Price is Insane? People Really Need to Wak...</td>\n",
       "      <td>1405728000</td>\n",
       "      <td>07 19, 2014</td>\n",
       "    </tr>\n",
       "  </tbody>\n",
       "</table>\n",
       "</div>"
      ],
      "text/plain": [
       "             reviewerID        asin                     reviewerName  \\\n",
       "1697523   APO10VQE3MAKE  B00LT1JHLW                      D. Atkinson   \n",
       "1697524  A3PPYOJBMFBP6U  B00LT1JHLW                            GranO   \n",
       "1697525  A3UHLJGZ2E84A5  B00LT1JHLW             Jordan Lund \"Jordan\"   \n",
       "1697526  A22OB0DIJ5FO0G  B00LT1JHLW     Mazkoor Shariff \"dackjawson\"   \n",
       "1697527  A2CA2Q6JS6CQAE  B00LT1JHLW  Michael Harris \"Michael Harris\"   \n",
       "1697528   AV657BUYHHXZ2  B00LT1JHLW                Mike Rules \"Mike\"   \n",
       "1697529  A17W587EH23J0Q  B00LT1JHLW                    Ron2900 \"Ron\"   \n",
       "1697530  A3DE438TF1A958  B00LT1JHLW                     thomas henry   \n",
       "1697531  A2RWCXDMANY0LW  B00LT1JHLW                            wheev   \n",
       "1697532  A3ROPC55BE2OM9  B00LT1JHLW                           WingLT   \n",
       "\n",
       "          helpful                                         reviewText  overall  \\\n",
       "1697523    [2, 9]  Well it is finally coming to fruition!  Batman...      5.0   \n",
       "1697524   [3, 10]  I would also like to see the original 20th Cen...      4.0   \n",
       "1697525   [4, 21]  Seems expensive, but it is for 120 episodes. T...      3.0   \n",
       "1697526   [2, 12]  Looking very much forward to this release, but...      4.0   \n",
       "1697527  [10, 14]  Finally to be released on DVD and Blu-Ray Nove...      5.0   \n",
       "1697528   [1, 14]  wow $269.99 for the entire series on Blu Ray??...      1.0   \n",
       "1697529  [32, 48]  Finally, the holy grail of tv-on-dvd boxsets i...      5.0   \n",
       "1697530   [3, 10]  Could this be a true or I'm i dreaming batman ...      5.0   \n",
       "1697531    [0, 4]  I've been a fan of the series since I was a yo...      5.0   \n",
       "1697532  [11, 23]  People seriously need to wake up and realize t...      5.0   \n",
       "\n",
       "                                                   summary  unixReviewTime  \\\n",
       "1697523                                           Finally!      1405900800   \n",
       "1697524  Please Include The 'Batman In Color' Bumper Wh...      1405728000   \n",
       "1697525                 $1.57 per episode. $3.14 per hour.      1405728000   \n",
       "1697526   Worth the wait, but worth the asking price, too?      1405728000   \n",
       "1697527    Finally on dvd and blu-ray The Batman TV Series      1405987200   \n",
       "1697528                      Way to Expensive!! WB = GREED      1406073600   \n",
       "1697529  HOLY BAT-BOXSET, BATMAN... I never thought thi...      1405641600   \n",
       "1697530  prayers have been answered because batman 60s ...      1405728000   \n",
       "1697531                                        can't Wait!      1405987200   \n",
       "1697532  The Price is Insane? People Really Need to Wak...      1405728000   \n",
       "\n",
       "          reviewTime  \n",
       "1697523  07 21, 2014  \n",
       "1697524  07 19, 2014  \n",
       "1697525  07 19, 2014  \n",
       "1697526  07 19, 2014  \n",
       "1697527  07 22, 2014  \n",
       "1697528  07 23, 2014  \n",
       "1697529  07 18, 2014  \n",
       "1697530  07 19, 2014  \n",
       "1697531  07 22, 2014  \n",
       "1697532  07 19, 2014  "
      ]
     },
     "execution_count": 4,
     "metadata": {},
     "output_type": "execute_result"
    }
   ],
   "source": [
    "df.tail(10)"
   ]
  },
  {
   "cell_type": "markdown",
   "metadata": {},
   "source": [
    "View the shape (number of columns, rows) of the dataset:"
   ]
  },
  {
   "cell_type": "code",
   "execution_count": 5,
   "metadata": {},
   "outputs": [
    {
     "data": {
      "text/plain": [
       "(1697533, 9)"
      ]
     },
     "execution_count": 5,
     "metadata": {},
     "output_type": "execute_result"
    }
   ],
   "source": [
    "df.shape"
   ]
  },
  {
   "cell_type": "markdown",
   "metadata": {},
   "source": [
    "View the column names (attributes) of the dataset:"
   ]
  },
  {
   "cell_type": "code",
   "execution_count": 7,
   "metadata": {},
   "outputs": [
    {
     "data": {
      "text/plain": [
       "Index(['reviewerID', 'asin', 'reviewerName', 'helpful', 'reviewText',\n",
       "       'overall', 'summary', 'unixReviewTime', 'reviewTime'],\n",
       "      dtype='object')"
      ]
     },
     "execution_count": 7,
     "metadata": {},
     "output_type": "execute_result"
    }
   ],
   "source": [
    "df.columns"
   ]
  },
  {
   "cell_type": "markdown",
   "metadata": {},
   "source": [
    "The .info() method provides important information about the dataset, such as the number of rows, number of columns, number of non-missing values in each column, and the data type stored in each column:"
   ]
  },
  {
   "cell_type": "code",
   "execution_count": 8,
   "metadata": {},
   "outputs": [
    {
     "name": "stdout",
     "output_type": "stream",
     "text": [
      "<class 'pandas.core.frame.DataFrame'>\n",
      "Int64Index: 1697533 entries, 0 to 1697532\n",
      "Data columns (total 9 columns):\n",
      "reviewerID        object\n",
      "asin              object\n",
      "reviewerName      object\n",
      "helpful           object\n",
      "reviewText        object\n",
      "overall           float64\n",
      "summary           object\n",
      "unixReviewTime    int64\n",
      "reviewTime        object\n",
      "dtypes: float64(1), int64(1), object(7)\n",
      "memory usage: 129.5+ MB\n"
     ]
    }
   ],
   "source": [
    "df.info()"
   ]
  },
  {
   "cell_type": "markdown",
   "metadata": {},
   "source": [
    "The .describe() method calculates summary statistics of the data:"
   ]
  },
  {
   "cell_type": "code",
   "execution_count": 9,
   "metadata": {},
   "outputs": [
    {
     "data": {
      "text/html": [
       "<div>\n",
       "<style>\n",
       "    .dataframe thead tr:only-child th {\n",
       "        text-align: right;\n",
       "    }\n",
       "\n",
       "    .dataframe thead th {\n",
       "        text-align: left;\n",
       "    }\n",
       "\n",
       "    .dataframe tbody tr th {\n",
       "        vertical-align: top;\n",
       "    }\n",
       "</style>\n",
       "<table border=\"1\" class=\"dataframe\">\n",
       "  <thead>\n",
       "    <tr style=\"text-align: right;\">\n",
       "      <th></th>\n",
       "      <th>overall</th>\n",
       "      <th>unixReviewTime</th>\n",
       "    </tr>\n",
       "  </thead>\n",
       "  <tbody>\n",
       "    <tr>\n",
       "      <th>count</th>\n",
       "      <td>1.697533e+06</td>\n",
       "      <td>1.697533e+06</td>\n",
       "    </tr>\n",
       "    <tr>\n",
       "      <th>mean</th>\n",
       "      <td>4.110648e+00</td>\n",
       "      <td>1.262422e+09</td>\n",
       "    </tr>\n",
       "    <tr>\n",
       "      <th>std</th>\n",
       "      <td>1.197615e+00</td>\n",
       "      <td>1.289277e+08</td>\n",
       "    </tr>\n",
       "    <tr>\n",
       "      <th>min</th>\n",
       "      <td>1.000000e+00</td>\n",
       "      <td>8.793792e+08</td>\n",
       "    </tr>\n",
       "    <tr>\n",
       "      <th>25%</th>\n",
       "      <td>4.000000e+00</td>\n",
       "      <td>1.164413e+09</td>\n",
       "    </tr>\n",
       "    <tr>\n",
       "      <th>50%</th>\n",
       "      <td>5.000000e+00</td>\n",
       "      <td>1.307491e+09</td>\n",
       "    </tr>\n",
       "    <tr>\n",
       "      <th>75%</th>\n",
       "      <td>5.000000e+00</td>\n",
       "      <td>1.373242e+09</td>\n",
       "    </tr>\n",
       "    <tr>\n",
       "      <th>max</th>\n",
       "      <td>5.000000e+00</td>\n",
       "      <td>1.406074e+09</td>\n",
       "    </tr>\n",
       "  </tbody>\n",
       "</table>\n",
       "</div>"
      ],
      "text/plain": [
       "            overall  unixReviewTime\n",
       "count  1.697533e+06    1.697533e+06\n",
       "mean   4.110648e+00    1.262422e+09\n",
       "std    1.197615e+00    1.289277e+08\n",
       "min    1.000000e+00    8.793792e+08\n",
       "25%    4.000000e+00    1.164413e+09\n",
       "50%    5.000000e+00    1.307491e+09\n",
       "75%    5.000000e+00    1.373242e+09\n",
       "max    5.000000e+00    1.406074e+09"
      ]
     },
     "execution_count": 9,
     "metadata": {},
     "output_type": "execute_result"
    }
   ],
   "source": [
    "df.describe()"
   ]
  },
  {
   "cell_type": "markdown",
   "metadata": {},
   "source": [
    "Most reviews are high."
   ]
  },
  {
   "cell_type": "markdown",
   "metadata": {},
   "source": [
    "Visualise the number of good/bad ratings:"
   ]
  },
  {
   "cell_type": "code",
   "execution_count": 12,
   "metadata": {},
   "outputs": [
    {
     "data": {
      "text/plain": [
       "<matplotlib.axes._subplots.AxesSubplot at 0xbecf1908>"
      ]
     },
     "execution_count": 12,
     "metadata": {},
     "output_type": "execute_result"
    },
    {
     "data": {
      "image/png": "[encoded data removed]",
      "text/plain": [
       "<matplotlib.figure.Figure at 0xbb2f55c0>"
      ]
     },
     "metadata": {},
     "output_type": "display_data"
    }
   ],
   "source": [
    "sns.distplot(df['overall'])"
   ]
  },
  {
   "cell_type": "markdown",
   "metadata": {},
   "source": [
    "## 1.3. Cleaning "
   ]
  },
  {
   "cell_type": "markdown",
   "metadata": {},
   "source": [
    "### 1.3.1. Formatting"
   ]
  },
  {
   "cell_type": "markdown",
   "metadata": {},
   "source": [
    "Convert data to a standard format for easy manipulation."
   ]
  },
  {
   "cell_type": "markdown",
   "metadata": {},
   "source": [
    "Convert the reviewTime column to datetime type:"
   ]
  },
  {
   "cell_type": "code",
   "execution_count": 13,
   "metadata": {},
   "outputs": [],
   "source": [
    "df['reviewTime_convert'] = pd.to_datetime(df.reviewTime)"
   ]
  },
  {
   "cell_type": "markdown",
   "metadata": {},
   "source": [
    "Check if it worked:"
   ]
  },
  {
   "cell_type": "code",
   "execution_count": 14,
   "metadata": {},
   "outputs": [
    {
     "data": {
      "text/html": [
       "<div>\n",
       "<style>\n",
       "    .dataframe thead tr:only-child th {\n",
       "        text-align: right;\n",
       "    }\n",
       "\n",
       "    .dataframe thead th {\n",
       "        text-align: left;\n",
       "    }\n",
       "\n",
       "    .dataframe tbody tr th {\n",
       "        vertical-align: top;\n",
       "    }\n",
       "</style>\n",
       "<table border=\"1\" class=\"dataframe\">\n",
       "  <thead>\n",
       "    <tr style=\"text-align: right;\">\n",
       "      <th></th>\n",
       "      <th>reviewTime</th>\n",
       "      <th>reviewTime_convert</th>\n",
       "    </tr>\n",
       "  </thead>\n",
       "  <tbody>\n",
       "    <tr>\n",
       "      <th>0</th>\n",
       "      <td>02 26, 2008</td>\n",
       "      <td>2008-02-26</td>\n",
       "    </tr>\n",
       "    <tr>\n",
       "      <th>1</th>\n",
       "      <td>12 30, 2013</td>\n",
       "      <td>2013-12-30</td>\n",
       "    </tr>\n",
       "    <tr>\n",
       "      <th>2</th>\n",
       "      <td>12 30, 2013</td>\n",
       "      <td>2013-12-30</td>\n",
       "    </tr>\n",
       "    <tr>\n",
       "      <th>3</th>\n",
       "      <td>02 13, 2008</td>\n",
       "      <td>2008-02-13</td>\n",
       "    </tr>\n",
       "    <tr>\n",
       "      <th>4</th>\n",
       "      <td>12 22, 2013</td>\n",
       "      <td>2013-12-22</td>\n",
       "    </tr>\n",
       "  </tbody>\n",
       "</table>\n",
       "</div>"
      ],
      "text/plain": [
       "    reviewTime reviewTime_convert\n",
       "0  02 26, 2008         2008-02-26\n",
       "1  12 30, 2013         2013-12-30\n",
       "2  12 30, 2013         2013-12-30\n",
       "3  02 13, 2008         2008-02-13\n",
       "4  12 22, 2013         2013-12-22"
      ]
     },
     "execution_count": 14,
     "metadata": {},
     "output_type": "execute_result"
    }
   ],
   "source": [
    "df[['reviewTime','reviewTime_convert']].head(5)"
   ]
  },
  {
   "cell_type": "markdown",
   "metadata": {},
   "source": [
    "The date is in US format ie. YYYY-MM-DD."
   ]
  },
  {
   "cell_type": "markdown",
   "metadata": {},
   "source": [
    "Similarly unixReviewTime can also be converted to dateTime type:"
   ]
  },
  {
   "cell_type": "raw",
   "metadata": {},
   "source": [
    "df['unixReviewTime_convert'] = pd.to_datetime(df['unixReviewTime'],unit='s')\n",
    "df[['unixReviewTime','unixReviewTime_convert']].head(5)"
   ]
  },
  {
   "cell_type": "markdown",
   "metadata": {},
   "source": [
    "However unixReviewTime will be droped later as it is redundant, so it will not be converted."
   ]
  },
  {
   "cell_type": "markdown",
   "metadata": {},
   "source": [
    "Change overall to integer type:"
   ]
  },
  {
   "cell_type": "code",
   "execution_count": 15,
   "metadata": {
    "collapsed": true
   },
   "outputs": [],
   "source": [
    "df['overall'] = df['overall'].astype(int)"
   ]
  },
  {
   "cell_type": "markdown",
   "metadata": {},
   "source": [
    "Check if it worked:"
   ]
  },
  {
   "cell_type": "code",
   "execution_count": 16,
   "metadata": {},
   "outputs": [
    {
     "data": {
      "text/plain": [
       "0    4\n",
       "1    3\n",
       "2    3\n",
       "3    5\n",
       "4    4\n",
       "Name: overall, dtype: int32"
      ]
     },
     "execution_count": 16,
     "metadata": {},
     "output_type": "execute_result"
    }
   ],
   "source": [
    "df['overall'].head(5)"
   ]
  },
  {
   "cell_type": "markdown",
   "metadata": {},
   "source": [
    "### 1.3.2. Missing Data"
   ]
  },
  {
   "cell_type": "markdown",
   "metadata": {},
   "source": [
    "Check for missing data:"
   ]
  },
  {
   "cell_type": "code",
   "execution_count": 17,
   "metadata": {},
   "outputs": [
    {
     "data": {
      "text/plain": [
       "reviewerID               0\n",
       "asin                     0\n",
       "reviewerName          6076\n",
       "helpful                  0\n",
       "reviewText               0\n",
       "overall                  0\n",
       "summary                  0\n",
       "unixReviewTime           0\n",
       "reviewTime               0\n",
       "reviewTime_convert       0\n",
       "dtype: int64"
      ]
     },
     "execution_count": 17,
     "metadata": {},
     "output_type": "execute_result"
    }
   ],
   "source": [
    "df.isnull().sum()"
   ]
  },
  {
   "cell_type": "markdown",
   "metadata": {},
   "source": [
    "There are 6076 reviews with missing reviewer names."
   ]
  },
  {
   "cell_type": "markdown",
   "metadata": {},
   "source": [
    "Fill the missing data with the string 'Unknown':"
   ]
  },
  {
   "cell_type": "code",
   "execution_count": 18,
   "metadata": {
    "collapsed": true
   },
   "outputs": [],
   "source": [
    "df.fillna('Unknown', inplace=True)"
   ]
  },
  {
   "cell_type": "markdown",
   "metadata": {},
   "source": [
    "Check if it worked:"
   ]
  },
  {
   "cell_type": "code",
   "execution_count": 19,
   "metadata": {},
   "outputs": [
    {
     "data": {
      "text/plain": [
       "reviewerID            0\n",
       "asin                  0\n",
       "reviewerName          0\n",
       "helpful               0\n",
       "reviewText            0\n",
       "overall               0\n",
       "summary               0\n",
       "unixReviewTime        0\n",
       "reviewTime            0\n",
       "reviewTime_convert    0\n",
       "dtype: int64"
      ]
     },
     "execution_count": 19,
     "metadata": {},
     "output_type": "execute_result"
    }
   ],
   "source": [
    "df.isnull().sum()"
   ]
  },
  {
   "cell_type": "markdown",
   "metadata": {},
   "source": [
    "There is now no cells with missing data."
   ]
  },
  {
   "cell_type": "markdown",
   "metadata": {},
   "source": [
    "### 1.3.3. Invalid Data"
   ]
  },
  {
   "cell_type": "markdown",
   "metadata": {},
   "source": [
    "Check for invalid data."
   ]
  },
  {
   "cell_type": "markdown",
   "metadata": {},
   "source": [
    "Check that all values in overall are between 0-5:"
   ]
  },
  {
   "cell_type": "code",
   "execution_count": 20,
   "metadata": {},
   "outputs": [
    {
     "data": {
      "text/html": [
       "<div>\n",
       "<style>\n",
       "    .dataframe thead tr:only-child th {\n",
       "        text-align: right;\n",
       "    }\n",
       "\n",
       "    .dataframe thead th {\n",
       "        text-align: left;\n",
       "    }\n",
       "\n",
       "    .dataframe tbody tr th {\n",
       "        vertical-align: top;\n",
       "    }\n",
       "</style>\n",
       "<table border=\"1\" class=\"dataframe\">\n",
       "  <thead>\n",
       "    <tr style=\"text-align: right;\">\n",
       "      <th></th>\n",
       "      <th>reviewerID</th>\n",
       "      <th>asin</th>\n",
       "      <th>reviewerName</th>\n",
       "      <th>helpful</th>\n",
       "      <th>reviewText</th>\n",
       "      <th>overall</th>\n",
       "      <th>summary</th>\n",
       "      <th>unixReviewTime</th>\n",
       "      <th>reviewTime</th>\n",
       "      <th>reviewTime_convert</th>\n",
       "    </tr>\n",
       "  </thead>\n",
       "  <tbody>\n",
       "  </tbody>\n",
       "</table>\n",
       "</div>"
      ],
      "text/plain": [
       "Empty DataFrame\n",
       "Columns: [reviewerID, asin, reviewerName, helpful, reviewText, overall, summary, unixReviewTime, reviewTime, reviewTime_convert]\n",
       "Index: []"
      ]
     },
     "execution_count": 20,
     "metadata": {},
     "output_type": "execute_result"
    }
   ],
   "source": [
    "df.loc[(df['overall']<0) | (df['overall']>5)]"
   ]
  },
  {
   "cell_type": "markdown",
   "metadata": {},
   "source": [
    "Check that all dates in reviewTime are between May 1996 - July 2014:"
   ]
  },
  {
   "cell_type": "code",
   "execution_count": 21,
   "metadata": {},
   "outputs": [
    {
     "data": {
      "text/html": [
       "<div>\n",
       "<style>\n",
       "    .dataframe thead tr:only-child th {\n",
       "        text-align: right;\n",
       "    }\n",
       "\n",
       "    .dataframe thead th {\n",
       "        text-align: left;\n",
       "    }\n",
       "\n",
       "    .dataframe tbody tr th {\n",
       "        vertical-align: top;\n",
       "    }\n",
       "</style>\n",
       "<table border=\"1\" class=\"dataframe\">\n",
       "  <thead>\n",
       "    <tr style=\"text-align: right;\">\n",
       "      <th></th>\n",
       "      <th>reviewerID</th>\n",
       "      <th>asin</th>\n",
       "      <th>reviewerName</th>\n",
       "      <th>helpful</th>\n",
       "      <th>reviewText</th>\n",
       "      <th>overall</th>\n",
       "      <th>summary</th>\n",
       "      <th>unixReviewTime</th>\n",
       "      <th>reviewTime</th>\n",
       "      <th>reviewTime_convert</th>\n",
       "    </tr>\n",
       "  </thead>\n",
       "  <tbody>\n",
       "  </tbody>\n",
       "</table>\n",
       "</div>"
      ],
      "text/plain": [
       "Empty DataFrame\n",
       "Columns: [reviewerID, asin, reviewerName, helpful, reviewText, overall, summary, unixReviewTime, reviewTime, reviewTime_convert]\n",
       "Index: []"
      ]
     },
     "execution_count": 21,
     "metadata": {},
     "output_type": "execute_result"
    }
   ],
   "source": [
    "df.loc[(df['reviewTime_convert']<'1996-05-01') | (df['reviewTime_convert']>'2014-07-31')]"
   ]
  },
  {
   "cell_type": "markdown",
   "metadata": {},
   "source": [
    "There is no invalid data."
   ]
  },
  {
   "cell_type": "markdown",
   "metadata": {},
   "source": [
    "### 1.3.4. Irrelevant Data "
   ]
  },
  {
   "cell_type": "markdown",
   "metadata": {},
   "source": [
    "Remove irrelevant data."
   ]
  },
  {
   "cell_type": "markdown",
   "metadata": {},
   "source": [
    "Remove unixReviewTime column as it has the same meaning as the reviewTime attribute in this dataset:"
   ]
  },
  {
   "cell_type": "code",
   "execution_count": 22,
   "metadata": {
    "collapsed": true
   },
   "outputs": [],
   "source": [
    "del df['unixReviewTime']"
   ]
  },
  {
   "cell_type": "markdown",
   "metadata": {},
   "source": [
    "### 1.3.5. Inconsistent data"
   ]
  },
  {
   "cell_type": "markdown",
   "metadata": {},
   "source": [
    "Two different reviewers should not have the same ID."
   ]
  },
  {
   "cell_type": "code",
   "execution_count": 26,
   "metadata": {},
   "outputs": [
    {
     "data": {
      "text/plain": [
       "reviewerID\n",
       "A100RFQHFO005W                [artifice \"artifice\", Unknown]\n",
       "A100WFKYVRPVX7                         [Michael C., Unknown]\n",
       "A10175AMUHOQC4                          [stoneyloc, Unknown]\n",
       "A101L3HXTII0I5                         [A. Elliott, Unknown]\n",
       "A102B8D74H64TO                         [\"malachix\", Unknown]\n",
       "A106016KSI0YQ                         [Jay Dickson, Unknown]\n",
       "A106YXO3EHVD3J    [DR SHOCK \"MR. KIA RETURNS! ;-b\", Unknown]\n",
       "A109KUJ2SX289                      [Michael Wilson, Unknown]\n",
       "A10AFVU66A79Y1         [Amazon Customer \"Flo\", Renita \"Flo\"]\n",
       "A10BT85QEKBZNZ                             [SMS CA, Unknown]\n",
       "Name: reviewerName, dtype: object"
      ]
     },
     "execution_count": 26,
     "metadata": {},
     "output_type": "execute_result"
    }
   ],
   "source": [
    "group = df.groupby('reviewerID')['reviewerName'].unique()\n",
    "group[group.apply(lambda x: len(x)>1)].head(10)"
   ]
  },
  {
   "cell_type": "markdown",
   "metadata": {},
   "source": [
    "### 1.3.6. Check"
   ]
  },
  {
   "cell_type": "code",
   "execution_count": 28,
   "metadata": {},
   "outputs": [
    {
     "data": {
      "text/html": [
       "<div>\n",
       "<style>\n",
       "    .dataframe thead tr:only-child th {\n",
       "        text-align: right;\n",
       "    }\n",
       "\n",
       "    .dataframe thead th {\n",
       "        text-align: left;\n",
       "    }\n",
       "\n",
       "    .dataframe tbody tr th {\n",
       "        vertical-align: top;\n",
       "    }\n",
       "</style>\n",
       "<table border=\"1\" class=\"dataframe\">\n",
       "  <thead>\n",
       "    <tr style=\"text-align: right;\">\n",
       "      <th></th>\n",
       "      <th>reviewerID</th>\n",
       "      <th>asin</th>\n",
       "      <th>reviewerName</th>\n",
       "      <th>helpful</th>\n",
       "      <th>reviewText</th>\n",
       "      <th>overall</th>\n",
       "      <th>summary</th>\n",
       "      <th>reviewTime</th>\n",
       "      <th>reviewTime_convert</th>\n",
       "    </tr>\n",
       "  </thead>\n",
       "  <tbody>\n",
       "    <tr>\n",
       "      <th>0</th>\n",
       "      <td>ADZPIG9QOCDG5</td>\n",
       "      <td>0005019281</td>\n",
       "      <td>Alice L. Larson \"alice-loves-books\"</td>\n",
       "      <td>[0, 0]</td>\n",
       "      <td>This is a charming version of the classic Dick...</td>\n",
       "      <td>4</td>\n",
       "      <td>good version of a classic</td>\n",
       "      <td>02 26, 2008</td>\n",
       "      <td>2008-02-26</td>\n",
       "    </tr>\n",
       "    <tr>\n",
       "      <th>1</th>\n",
       "      <td>A35947ZP82G7JH</td>\n",
       "      <td>0005019281</td>\n",
       "      <td>Amarah Strack</td>\n",
       "      <td>[0, 0]</td>\n",
       "      <td>It was good but not as emotionally moving as t...</td>\n",
       "      <td>3</td>\n",
       "      <td>Good but not as moving</td>\n",
       "      <td>12 30, 2013</td>\n",
       "      <td>2013-12-30</td>\n",
       "    </tr>\n",
       "    <tr>\n",
       "      <th>2</th>\n",
       "      <td>A3UORV8A9D5L2E</td>\n",
       "      <td>0005019281</td>\n",
       "      <td>Amazon Customer</td>\n",
       "      <td>[0, 0]</td>\n",
       "      <td>Don't get me wrong, Winkler is a wonderful cha...</td>\n",
       "      <td>3</td>\n",
       "      <td>Winkler's Performance was ok at best!</td>\n",
       "      <td>12 30, 2013</td>\n",
       "      <td>2013-12-30</td>\n",
       "    </tr>\n",
       "    <tr>\n",
       "      <th>3</th>\n",
       "      <td>A1VKW06X1O2X7V</td>\n",
       "      <td>0005019281</td>\n",
       "      <td>Amazon Customer \"Softmill\"</td>\n",
       "      <td>[0, 0]</td>\n",
       "      <td>Henry Winkler is very good in this twist on th...</td>\n",
       "      <td>5</td>\n",
       "      <td>It's an enjoyable twist on the classic story</td>\n",
       "      <td>02 13, 2008</td>\n",
       "      <td>2008-02-13</td>\n",
       "    </tr>\n",
       "    <tr>\n",
       "      <th>4</th>\n",
       "      <td>A3R27T4HADWFFJ</td>\n",
       "      <td>0005019281</td>\n",
       "      <td>BABE</td>\n",
       "      <td>[0, 0]</td>\n",
       "      <td>This is one of the best Scrooge movies out.  H...</td>\n",
       "      <td>4</td>\n",
       "      <td>Best Scrooge yet</td>\n",
       "      <td>12 22, 2013</td>\n",
       "      <td>2013-12-22</td>\n",
       "    </tr>\n",
       "    <tr>\n",
       "      <th>5</th>\n",
       "      <td>A2L0G56BNOTX6S</td>\n",
       "      <td>0005019281</td>\n",
       "      <td>barbara whapeles</td>\n",
       "      <td>[0, 0]</td>\n",
       "      <td>This has been a favorite movie of mine for a l...</td>\n",
       "      <td>5</td>\n",
       "      <td>Dickens updated.</td>\n",
       "      <td>11 6, 2013</td>\n",
       "      <td>2013-11-06</td>\n",
       "    </tr>\n",
       "    <tr>\n",
       "      <th>6</th>\n",
       "      <td>A5NYUBEKXFLX5</td>\n",
       "      <td>0005019281</td>\n",
       "      <td>B. Babb \"kites0852\"</td>\n",
       "      <td>[1, 1]</td>\n",
       "      <td>This is the American adaptation of the Charles...</td>\n",
       "      <td>5</td>\n",
       "      <td>A MUST-HAVE FOR ANY VIDEO CHRISTMAS COLLECTION!!</td>\n",
       "      <td>12 30, 2008</td>\n",
       "      <td>2008-12-30</td>\n",
       "    </tr>\n",
       "    <tr>\n",
       "      <th>7</th>\n",
       "      <td>A2DJ8B8GE4V2VD</td>\n",
       "      <td>0005019281</td>\n",
       "      <td>Berl S. Meyer</td>\n",
       "      <td>[0, 0]</td>\n",
       "      <td>Glad that this american classic came out on dv...</td>\n",
       "      <td>5</td>\n",
       "      <td>An American Christmas Carol</td>\n",
       "      <td>12 15, 2009</td>\n",
       "      <td>2009-12-15</td>\n",
       "    </tr>\n",
       "    <tr>\n",
       "      <th>8</th>\n",
       "      <td>AWF2S3UNW9UA0</td>\n",
       "      <td>0005019281</td>\n",
       "      <td>beth holman</td>\n",
       "      <td>[0, 0]</td>\n",
       "      <td>A good Christmas carol dhenry winkler one duri...</td>\n",
       "      <td>5</td>\n",
       "      <td>an american christmas carol</td>\n",
       "      <td>12 5, 2013</td>\n",
       "      <td>2013-12-05</td>\n",
       "    </tr>\n",
       "    <tr>\n",
       "      <th>9</th>\n",
       "      <td>A3O4UUT83DG3OU</td>\n",
       "      <td>0005019281</td>\n",
       "      <td>Bettylou Sperling</td>\n",
       "      <td>[0, 0]</td>\n",
       "      <td>How a bitter old man comes to know the true me...</td>\n",
       "      <td>5</td>\n",
       "      <td>Fantastic!</td>\n",
       "      <td>09 21, 2013</td>\n",
       "      <td>2013-09-21</td>\n",
       "    </tr>\n",
       "    <tr>\n",
       "      <th>10</th>\n",
       "      <td>A3TK5Q142X5Q8A</td>\n",
       "      <td>0005019281</td>\n",
       "      <td>BluegrassGirl \"Mother Nature\"</td>\n",
       "      <td>[0, 0]</td>\n",
       "      <td>The small historic Canadian town of Elora, wit...</td>\n",
       "      <td>5</td>\n",
       "      <td>Outstanding Concept, and Performances</td>\n",
       "      <td>12 20, 2013</td>\n",
       "      <td>2013-12-20</td>\n",
       "    </tr>\n",
       "    <tr>\n",
       "      <th>11</th>\n",
       "      <td>A33EWPXESP9GQH</td>\n",
       "      <td>0005019281</td>\n",
       "      <td>Buckaroo \"Dead Dog\"</td>\n",
       "      <td>[0, 0]</td>\n",
       "      <td>Even though i don't care for Henry Winklers  a...</td>\n",
       "      <td>5</td>\n",
       "      <td>Good Version</td>\n",
       "      <td>01 27, 2014</td>\n",
       "      <td>2014-01-27</td>\n",
       "    </tr>\n",
       "    <tr>\n",
       "      <th>12</th>\n",
       "      <td>AG8D804FUG5Y4</td>\n",
       "      <td>0005019281</td>\n",
       "      <td>Bud Harris \"Bud 101\"</td>\n",
       "      <td>[0, 1]</td>\n",
       "      <td>My wife told me of this movie in which Henry W...</td>\n",
       "      <td>3</td>\n",
       "      <td>Christmas</td>\n",
       "      <td>01 9, 2008</td>\n",
       "      <td>2008-01-09</td>\n",
       "    </tr>\n",
       "    <tr>\n",
       "      <th>13</th>\n",
       "      <td>A1GHUN5HXMHZ89</td>\n",
       "      <td>0005019281</td>\n",
       "      <td>C. A. Luster \"The Rook\"</td>\n",
       "      <td>[0, 0]</td>\n",
       "      <td>The first time I saw &amp;#34;An American Christma...</td>\n",
       "      <td>5</td>\n",
       "      <td>An American Christmas Carol</td>\n",
       "      <td>12 22, 2013</td>\n",
       "      <td>2013-12-22</td>\n",
       "    </tr>\n",
       "    <tr>\n",
       "      <th>14</th>\n",
       "      <td>A3VT62AP8KEK3V</td>\n",
       "      <td>0005019281</td>\n",
       "      <td>Carolyn N.</td>\n",
       "      <td>[1, 1]</td>\n",
       "      <td>Set in the USA about the time of the depressio...</td>\n",
       "      <td>4</td>\n",
       "      <td>It's a Christmas Carol</td>\n",
       "      <td>12 20, 2013</td>\n",
       "      <td>2013-12-20</td>\n",
       "    </tr>\n",
       "    <tr>\n",
       "      <th>15</th>\n",
       "      <td>AAM67Y93KTIOL</td>\n",
       "      <td>0005019281</td>\n",
       "      <td>CFS</td>\n",
       "      <td>[0, 0]</td>\n",
       "      <td>I really enjoy all the &amp;#34;Christmas Carol-Sc...</td>\n",
       "      <td>5</td>\n",
       "      <td>A FAMILIAR CLASSIC IN A DIFFERENT WAY</td>\n",
       "      <td>01 23, 2014</td>\n",
       "      <td>2014-01-23</td>\n",
       "    </tr>\n",
       "    <tr>\n",
       "      <th>16</th>\n",
       "      <td>A1GQF4JDJXBRLH</td>\n",
       "      <td>0005019281</td>\n",
       "      <td>Charles A. Hickson \"Chas\"</td>\n",
       "      <td>[0, 0]</td>\n",
       "      <td>This is a wonderful movie. It stay faithful to...</td>\n",
       "      <td>5</td>\n",
       "      <td>Great Christmas movie for the family</td>\n",
       "      <td>03 8, 2007</td>\n",
       "      <td>2007-03-08</td>\n",
       "    </tr>\n",
       "    <tr>\n",
       "      <th>17</th>\n",
       "      <td>A13KAQO9F5X0FN</td>\n",
       "      <td>0005019281</td>\n",
       "      <td>chaz</td>\n",
       "      <td>[0, 0]</td>\n",
       "      <td>Anorher good movie for holiday watchers..a lit...</td>\n",
       "      <td>4</td>\n",
       "      <td>the fonz does scrooge</td>\n",
       "      <td>01 14, 2014</td>\n",
       "      <td>2014-01-14</td>\n",
       "    </tr>\n",
       "    <tr>\n",
       "      <th>18</th>\n",
       "      <td>A3UEOL981G9TXY</td>\n",
       "      <td>0005019281</td>\n",
       "      <td>ChihuahuaMom</td>\n",
       "      <td>[0, 0]</td>\n",
       "      <td>Henry Winkler played a great part as Scrooge. ...</td>\n",
       "      <td>5</td>\n",
       "      <td>An American Christmas Carol</td>\n",
       "      <td>02 3, 2012</td>\n",
       "      <td>2012-02-03</td>\n",
       "    </tr>\n",
       "    <tr>\n",
       "      <th>19</th>\n",
       "      <td>AZBWH4HLG3JWV</td>\n",
       "      <td>0005019281</td>\n",
       "      <td>Chris Crossont</td>\n",
       "      <td>[0, 1]</td>\n",
       "      <td>Ignore some of the more negative reviews on he...</td>\n",
       "      <td>5</td>\n",
       "      <td>One of my favorite Christmas movies!</td>\n",
       "      <td>12 27, 2013</td>\n",
       "      <td>2013-12-27</td>\n",
       "    </tr>\n",
       "  </tbody>\n",
       "</table>\n",
       "</div>"
      ],
      "text/plain": [
       "        reviewerID        asin                         reviewerName helpful  \\\n",
       "0    ADZPIG9QOCDG5  0005019281  Alice L. Larson \"alice-loves-books\"  [0, 0]   \n",
       "1   A35947ZP82G7JH  0005019281                        Amarah Strack  [0, 0]   \n",
       "2   A3UORV8A9D5L2E  0005019281                      Amazon Customer  [0, 0]   \n",
       "3   A1VKW06X1O2X7V  0005019281           Amazon Customer \"Softmill\"  [0, 0]   \n",
       "4   A3R27T4HADWFFJ  0005019281                                 BABE  [0, 0]   \n",
       "5   A2L0G56BNOTX6S  0005019281                     barbara whapeles  [0, 0]   \n",
       "6    A5NYUBEKXFLX5  0005019281                  B. Babb \"kites0852\"  [1, 1]   \n",
       "7   A2DJ8B8GE4V2VD  0005019281                        Berl S. Meyer  [0, 0]   \n",
       "8    AWF2S3UNW9UA0  0005019281                          beth holman  [0, 0]   \n",
       "9   A3O4UUT83DG3OU  0005019281                    Bettylou Sperling  [0, 0]   \n",
       "10  A3TK5Q142X5Q8A  0005019281        BluegrassGirl \"Mother Nature\"  [0, 0]   \n",
       "11  A33EWPXESP9GQH  0005019281                  Buckaroo \"Dead Dog\"  [0, 0]   \n",
       "12   AG8D804FUG5Y4  0005019281                 Bud Harris \"Bud 101\"  [0, 1]   \n",
       "13  A1GHUN5HXMHZ89  0005019281              C. A. Luster \"The Rook\"  [0, 0]   \n",
       "14  A3VT62AP8KEK3V  0005019281                           Carolyn N.  [1, 1]   \n",
       "15   AAM67Y93KTIOL  0005019281                                  CFS  [0, 0]   \n",
       "16  A1GQF4JDJXBRLH  0005019281            Charles A. Hickson \"Chas\"  [0, 0]   \n",
       "17  A13KAQO9F5X0FN  0005019281                                 chaz  [0, 0]   \n",
       "18  A3UEOL981G9TXY  0005019281                         ChihuahuaMom  [0, 0]   \n",
       "19   AZBWH4HLG3JWV  0005019281                       Chris Crossont  [0, 1]   \n",
       "\n",
       "                                           reviewText  overall  \\\n",
       "0   This is a charming version of the classic Dick...        4   \n",
       "1   It was good but not as emotionally moving as t...        3   \n",
       "2   Don't get me wrong, Winkler is a wonderful cha...        3   \n",
       "3   Henry Winkler is very good in this twist on th...        5   \n",
       "4   This is one of the best Scrooge movies out.  H...        4   \n",
       "5   This has been a favorite movie of mine for a l...        5   \n",
       "6   This is the American adaptation of the Charles...        5   \n",
       "7   Glad that this american classic came out on dv...        5   \n",
       "8   A good Christmas carol dhenry winkler one duri...        5   \n",
       "9   How a bitter old man comes to know the true me...        5   \n",
       "10  The small historic Canadian town of Elora, wit...        5   \n",
       "11  Even though i don't care for Henry Winklers  a...        5   \n",
       "12  My wife told me of this movie in which Henry W...        3   \n",
       "13  The first time I saw &#34;An American Christma...        5   \n",
       "14  Set in the USA about the time of the depressio...        4   \n",
       "15  I really enjoy all the &#34;Christmas Carol-Sc...        5   \n",
       "16  This is a wonderful movie. It stay faithful to...        5   \n",
       "17  Anorher good movie for holiday watchers..a lit...        4   \n",
       "18  Henry Winkler played a great part as Scrooge. ...        5   \n",
       "19  Ignore some of the more negative reviews on he...        5   \n",
       "\n",
       "                                             summary   reviewTime  \\\n",
       "0                          good version of a classic  02 26, 2008   \n",
       "1                             Good but not as moving  12 30, 2013   \n",
       "2              Winkler's Performance was ok at best!  12 30, 2013   \n",
       "3       It's an enjoyable twist on the classic story  02 13, 2008   \n",
       "4                                   Best Scrooge yet  12 22, 2013   \n",
       "5                                   Dickens updated.   11 6, 2013   \n",
       "6   A MUST-HAVE FOR ANY VIDEO CHRISTMAS COLLECTION!!  12 30, 2008   \n",
       "7                        An American Christmas Carol  12 15, 2009   \n",
       "8                        an american christmas carol   12 5, 2013   \n",
       "9                                         Fantastic!  09 21, 2013   \n",
       "10             Outstanding Concept, and Performances  12 20, 2013   \n",
       "11                                      Good Version  01 27, 2014   \n",
       "12                                         Christmas   01 9, 2008   \n",
       "13                       An American Christmas Carol  12 22, 2013   \n",
       "14                            It's a Christmas Carol  12 20, 2013   \n",
       "15             A FAMILIAR CLASSIC IN A DIFFERENT WAY  01 23, 2014   \n",
       "16              Great Christmas movie for the family   03 8, 2007   \n",
       "17                             the fonz does scrooge  01 14, 2014   \n",
       "18                       An American Christmas Carol   02 3, 2012   \n",
       "19              One of my favorite Christmas movies!  12 27, 2013   \n",
       "\n",
       "   reviewTime_convert  \n",
       "0          2008-02-26  \n",
       "1          2013-12-30  \n",
       "2          2013-12-30  \n",
       "3          2008-02-13  \n",
       "4          2013-12-22  \n",
       "5          2013-11-06  \n",
       "6          2008-12-30  \n",
       "7          2009-12-15  \n",
       "8          2013-12-05  \n",
       "9          2013-09-21  \n",
       "10         2013-12-20  \n",
       "11         2014-01-27  \n",
       "12         2008-01-09  \n",
       "13         2013-12-22  \n",
       "14         2013-12-20  \n",
       "15         2014-01-23  \n",
       "16         2007-03-08  \n",
       "17         2014-01-14  \n",
       "18         2012-02-03  \n",
       "19         2013-12-27  "
      ]
     },
     "execution_count": 28,
     "metadata": {},
     "output_type": "execute_result"
    }
   ],
   "source": [
    "df.head(20)"
   ]
  },
  {
   "cell_type": "markdown",
   "metadata": {},
   "source": [
    "## 1.4. Dimensionality Reduction"
   ]
  },
  {
   "cell_type": "code",
   "execution_count": null,
   "metadata": {
    "collapsed": true
   },
   "outputs": [],
   "source": []
  }
 ],
 "metadata": {
  "kernelspec": {
   "display_name": "Python 3",
   "language": "python",
   "name": "python3"
  },
  "language_info": {
   "codemirror_mode": {
    "name": "ipython",
    "version": 3
   },
   "file_extension": ".py",
   "mimetype": "text/x-python",
   "name": "python",
   "nbconvert_exporter": "python",
   "pygments_lexer": "ipython3",
   "version": "3.6.3"
  }
 },
 "nbformat": 4,
 "nbformat_minor": 2
}
